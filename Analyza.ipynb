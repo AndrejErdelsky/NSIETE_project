{
 "cells": [
  {
   "cell_type": "markdown",
   "metadata": {},
   "source": [
    "# Analýza datasetu"
   ]
  },
  {
   "cell_type": "markdown",
   "metadata": {},
   "source": [
    "Náš dataset obsahuje obrázky z troch nezávislých parkovísk. Každé parkovisku bolo snímané v rôznych časoch a rôznych podmienok počasia. Pre každý dataset sú pripravené obrázky pri každom z troch podmienok počasia: slnečno, oblačno a daždivo. Náš Dataset taktiež obsahuje vysegmentované jednotlivé parkovacie miesta zo svojím označením (obsadené/voľné). Náš Baseline sme trénovali na týchto segmentovaných obrázkoch jednotlivých parkovacích miest a snažili sme sa klasifikovať, či na obrázku je alebo nie je auto."
   ]
  },
  {
   "cell_type": "code",
   "execution_count": 9,
   "metadata": {},
   "outputs": [],
   "source": [
    "import os\n",
    "import glob\n",
    "import matplotlib.pyplot as plt\n",
    "import cv2\n",
    "import pandas"
   ]
  },
  {
   "cell_type": "markdown",
   "metadata": {},
   "source": [
    "Načítanie segmentovaných obrázkov na Jednotlivých parkoviskách parkovisku"
   ]
  },
  {
   "cell_type": "code",
   "execution_count": 4,
   "metadata": {},
   "outputs": [],
   "source": [
    "PUC_Sunny_Empty = glob.glob(\"D:\\\\Dataset\\PKLot\\PKLot\\PKLotSegmented\\PUC\\Sunny\\*\\Empty\\*.jpg\")\n",
    "PUC_Sunny_Occupied = glob.glob(\"D:\\\\Dataset\\PKLot\\PKLot\\PKLotSegmented\\PUC\\Sunny\\*\\Occupied\\*.jpg\")\n",
    "PUC_Rainy_Empty = glob.glob(\"D:\\\\Dataset\\PKLot\\PKLot\\PKLotSegmented\\PUC\\Rainy\\*\\Empty\\*.jpg\")\n",
    "PUC_Rainy_Occupied = glob.glob(\"D:\\\\Dataset\\PKLot\\PKLot\\PKLotSegmented\\PUC\\Rainy\\*\\Occupied\\*.jpg\")\n",
    "PUC_Cloudy_Empty = glob.glob(\"D:\\\\Dataset\\PKLot\\PKLot\\PKLotSegmented\\PUC\\Cloudy\\*\\Empty\\*.jpg\")\n",
    "PUC_Cloudy_Occupied = glob.glob(\"D:\\\\Dataset\\PKLot\\PKLot\\PKLotSegmented\\PUC\\Cloudy\\*\\Occupied\\*.jpg\")"
   ]
  },
  {
   "cell_type": "code",
   "execution_count": 5,
   "metadata": {},
   "outputs": [],
   "source": [
    "UFPR04_Sunny_Empty = glob.glob(\"D:\\\\Dataset\\PKLot\\PKLot\\PKLotSegmented\\\\UFPR04\\Sunny\\*\\Empty\\*.jpg\")\n",
    "UFPR04_Sunny_Occupied = glob.glob(\"D:\\\\Dataset\\PKLot\\PKLot\\PKLotSegmented\\\\UFPR04\\Sunny\\*\\Occupied\\*.jpg\")\n",
    "UFPR04_Rainy_Empty = glob.glob(\"D:\\\\Dataset\\PKLot\\PKLot\\PKLotSegmented\\\\UFPR04\\Rainy\\*\\Empty\\*.jpg\")\n",
    "UFPR04_Rainy_Occupied = glob.glob(\"D:\\\\Dataset\\PKLot\\PKLot\\PKLotSegmented\\\\UFPR04\\Rainy\\*\\Occupied\\*.jpg\")\n",
    "UFPR04_Cloudy_Empty = glob.glob(\"D:\\\\Dataset\\PKLot\\PKLot\\PKLotSegmented\\\\UFPR04\\Cloudy\\*\\Empty\\*.jpg\")\n",
    "UFPR04_Cloudy_Occupied = glob.glob(\"D:\\\\Dataset\\PKLot\\PKLot\\PKLotSegmented\\\\UFPR04\\Cloudy\\*\\Occupied\\*.jpg\")"
   ]
  },
  {
   "cell_type": "code",
   "execution_count": 6,
   "metadata": {},
   "outputs": [],
   "source": [
    "UFPR05_Sunny_Empty = glob.glob(\"D:\\\\Dataset\\PKLot\\PKLot\\PKLotSegmented\\\\UFPR05\\Sunny\\*\\Empty\\*.jpg\")\n",
    "UFPR05_Sunny_Occupied = glob.glob(\"D:\\\\Dataset\\PKLot\\PKLot\\PKLotSegmented\\\\UFPR05\\Sunny\\*\\Occupied\\*.jpg\")\n",
    "UFPR05_Rainy_Empty = glob.glob(\"D:\\\\Dataset\\PKLot\\PKLot\\PKLotSegmented\\\\UFPR05\\Rainy\\*\\Empty\\*.jpg\")\n",
    "UFPR05_Rainy_Occupied = glob.glob(\"D:\\\\Dataset\\PKLot\\PKLot\\PKLotSegmented\\\\UFPR05\\Rainy\\*\\Occupied\\*.jpg\")\n",
    "UFPR05_Cloudy_Empty = glob.glob(\"D:\\\\Dataset\\PKLot\\PKLot\\PKLotSegmented\\\\UFPR05\\Cloudy\\*\\Empty\\*.jpg\")\n",
    "UFPR05_Cloudy_Occupied = glob.glob(\"D:\\\\Dataset\\PKLot\\PKLot\\PKLotSegmented\\\\UFPR05\\Cloudy\\*\\Occupied\\*.jpg\")"
   ]
  },
  {
   "cell_type": "markdown",
   "metadata": {},
   "source": [
    "### Počty jednotlivých obrázkov"
   ]
  },
  {
   "cell_type": "code",
   "execution_count": 12,
   "metadata": {},
   "outputs": [],
   "source": [
    "data = {'Sunny empty':[len(PUC_Sunny_Empty),len(UFPR04_Sunny_Empty),len(UFPR05_Sunny_Empty)],'Sunny occupied':[len(PUC_Sunny_Occupied),len(UFPR04_Sunny_Occupied),len(UFPR05_Sunny_Occupied)],'Cloudy empty':[len(PUC_Cloudy_Empty),len(UFPR04_Cloudy_Empty),len(UFPR05_Cloudy_Empty)],'Cloudy occupied':[len(PUC_Cloudy_Occupied),len(UFPR04_Cloudy_Occupied),len(UFPR05_Cloudy_Occupied)],'Rainy empty':[len(PUC_Rainy_Empty),len(UFPR04_Rainy_Empty),len(UFPR05_Rainy_Empty)],'Rainy occupied':[len(PUC_Rainy_Occupied),len(UFPR04_Rainy_Occupied),len(UFPR05_Rainy_Occupied)]}"
   ]
  },
  {
   "cell_type": "code",
   "execution_count": 13,
   "metadata": {},
   "outputs": [],
   "source": [
    "Dataset_Counts = pandas.DataFrame(data=data)"
   ]
  },
  {
   "cell_type": "code",
   "execution_count": 19,
   "metadata": {},
   "outputs": [],
   "source": [
    "Dataset_Counts = Dataset_Counts.set_index(pandas.Index(['Parking 1','Parking 2','Parking 3']))"
   ]
  },
  {
   "cell_type": "code",
   "execution_count": 20,
   "metadata": {},
   "outputs": [
    {
     "data": {
      "text/html": [
       "<div>\n",
       "<style scoped>\n",
       "    .dataframe tbody tr th:only-of-type {\n",
       "        vertical-align: middle;\n",
       "    }\n",
       "\n",
       "    .dataframe tbody tr th {\n",
       "        vertical-align: top;\n",
       "    }\n",
       "\n",
       "    .dataframe thead th {\n",
       "        text-align: right;\n",
       "    }\n",
       "</style>\n",
       "<table border=\"1\" class=\"dataframe\">\n",
       "  <thead>\n",
       "    <tr style=\"text-align: right;\">\n",
       "      <th></th>\n",
       "      <th>Sunny empty</th>\n",
       "      <th>Sunny occupied</th>\n",
       "      <th>Cloudy empty</th>\n",
       "      <th>Cloudy occupied</th>\n",
       "      <th>Rainy empty</th>\n",
       "      <th>Rainy occupied</th>\n",
       "    </tr>\n",
       "  </thead>\n",
       "  <tbody>\n",
       "    <tr>\n",
       "      <th>Parking 1</th>\n",
       "      <td>111626</td>\n",
       "      <td>96761</td>\n",
       "      <td>90417</td>\n",
       "      <td>42363</td>\n",
       "      <td>27951</td>\n",
       "      <td>55105</td>\n",
       "    </tr>\n",
       "    <tr>\n",
       "      <th>Parking 2</th>\n",
       "      <td>26334</td>\n",
       "      <td>32166</td>\n",
       "      <td>27777</td>\n",
       "      <td>11608</td>\n",
       "      <td>5607</td>\n",
       "      <td>2351</td>\n",
       "    </tr>\n",
       "    <tr>\n",
       "      <th>Parking 3</th>\n",
       "      <td>42306</td>\n",
       "      <td>57584</td>\n",
       "      <td>23202</td>\n",
       "      <td>33764</td>\n",
       "      <td>2851</td>\n",
       "      <td>6078</td>\n",
       "    </tr>\n",
       "  </tbody>\n",
       "</table>\n",
       "</div>"
      ],
      "text/plain": [
       "           Sunny empty  Sunny occupied  Cloudy empty  Cloudy occupied  \\\n",
       "Parking 1       111626           96761         90417            42363   \n",
       "Parking 2        26334           32166         27777            11608   \n",
       "Parking 3        42306           57584         23202            33764   \n",
       "\n",
       "           Rainy empty  Rainy occupied  \n",
       "Parking 1        27951           55105  \n",
       "Parking 2         5607            2351  \n",
       "Parking 3         2851            6078  "
      ]
     },
     "execution_count": 20,
     "metadata": {},
     "output_type": "execute_result"
    }
   ],
   "source": [
    "Dataset_Counts"
   ]
  },
  {
   "cell_type": "markdown",
   "metadata": {},
   "source": [
    "**PUC parking (Parking 1)**"
   ]
  },
  {
   "cell_type": "code",
   "execution_count": 26,
   "metadata": {},
   "outputs": [
    {
     "data": {
      "image/png": "[encoded data removed]",
      "text/plain": [
       "<Figure size 1080x1080 with 1 Axes>"
      ]
     },
     "metadata": {
      "needs_background": "light"
     },
     "output_type": "display_data"
    }
   ],
   "source": [
    "\n",
    "total = [len(PUC_Sunny_Empty)+len(PUC_Sunny_Occupied), len(PUC_Cloudy_Empty)+len(PUC_Cloudy_Occupied),len(PUC_Rainy_Empty)+len(PUC_Rainy_Occupied) ]\n",
    "Occupied = [len(PUC_Sunny_Occupied), len(PUC_Cloudy_Occupied),len(PUC_Rainy_Occupied) ]\n",
    "fig, ax = plt.subplots(figsize=(15,15))\n",
    "\n",
    "index = [1,2,3]\n",
    "bar_width = 0.35\n",
    "opacity = 0.8\n",
    "\n",
    "rects1 = plt.bar(index, total, bar_width,\n",
    "alpha=opacity,\n",
    "color='b',\n",
    "label='Empty')\n",
    "\n",
    "rects2 = plt.bar(index , Occupied, bar_width,\n",
    "alpha=opacity,\n",
    "color='g',\n",
    "label='Occupied')\n",
    "plt.xlabel('Weather',fontsize=12)\n",
    "plt.ylabel('Count')\n",
    "\n",
    "plt.title('Parking PUC',fontsize = 25)\n",
    "plt.legend()\n",
    "labels = ['Sunny','Cloudy','Rainy']\n",
    "plt.xticks(index, labels)\n",
    "\n",
    "plt.show()"
   ]
  },
  {
   "cell_type": "markdown",
   "metadata": {},
   "source": [
    "**Parking UFPR04 (Parking 2)**"
   ]
  },
  {
   "cell_type": "code",
   "execution_count": 27,
   "metadata": {},
   "outputs": [
    {
     "data": {
      "image/png": "[encoded data removed]",
      "text/plain": [
       "<Figure size 720x720 with 1 Axes>"
      ]
     },
     "metadata": {
      "needs_background": "light"
     },
     "output_type": "display_data"
    }
   ],
   "source": [
    "\n",
    "total = [len(UFPR04_Sunny_Empty)+len(UFPR04_Sunny_Occupied), len(UFPR04_Cloudy_Occupied)+len(UFPR04_Cloudy_Occupied),len(UFPR04_Rainy_Empty)+len(UFPR04_Rainy_Occupied) ]\n",
    "Occupied = [len(UFPR04_Sunny_Occupied), len(UFPR04_Cloudy_Occupied),len(UFPR04_Rainy_Occupied) ]\n",
    "fig, ax = plt.subplots(figsize=(10,10))\n",
    "\n",
    "index = [1,2,3]\n",
    "bar_width = 0.35\n",
    "opacity = 0.8\n",
    "\n",
    "rects1 = plt.bar(index, total, bar_width,\n",
    "alpha=opacity,\n",
    "color='b',\n",
    "label='Empty')\n",
    "\n",
    "rects2 = plt.bar(index , Occupied, bar_width,\n",
    "alpha=opacity,\n",
    "color='g',\n",
    "label='Occupied')\n",
    "plt.xlabel('Weather',fontsize=12)\n",
    "plt.ylabel('Count')\n",
    "\n",
    "plt.title('Parking UFPR04',fontsize=25)\n",
    "plt.legend()\n",
    "labels = ['Sunny','Cloudy','Rainy']\n",
    "plt.xticks(index, labels)\n",
    "\n",
    "plt.show()"
   ]
  },
  {
   "cell_type": "markdown",
   "metadata": {},
   "source": [
    "**Parking UFPR05 (Parking 3)**"
   ]
  },
  {
   "cell_type": "code",
   "execution_count": 28,
   "metadata": {
    "scrolled": false
   },
   "outputs": [
    {
     "data": {
      "image/png": "[encoded data removed]",
      "text/plain": [
       "<Figure size 864x864 with 1 Axes>"
      ]
     },
     "metadata": {
      "needs_background": "light"
     },
     "output_type": "display_data"
    }
   ],
   "source": [
    "\n",
    "total = [len(UFPR05_Sunny_Empty)+len(UFPR05_Sunny_Occupied), len(UFPR05_Cloudy_Occupied)+len(UFPR05_Cloudy_Occupied),len(UFPR05_Rainy_Empty)+len(UFPR05_Rainy_Occupied) ]\n",
    "Occupied = [len(UFPR05_Sunny_Occupied), len(UFPR05_Cloudy_Occupied),len(UFPR05_Rainy_Occupied) ]\n",
    "fig, ax = plt.subplots(figsize=(12,12))\n",
    "\n",
    "index = [1,2,3]\n",
    "bar_width = 0.35\n",
    "opacity = 0.8\n",
    "\n",
    "rects1 = plt.bar(index, total, bar_width,\n",
    "alpha=opacity,\n",
    "color='b',\n",
    "label='Empty')\n",
    "\n",
    "rects2 = plt.bar(index , Occupied, bar_width,\n",
    "alpha=opacity,\n",
    "color='g',\n",
    "label='Occupied')\n",
    "plt.xlabel('Weather',fontsize=12)\n",
    "plt.ylabel('Count')\n",
    "\n",
    "plt.title('Parking UFPR05',fontsize=25)\n",
    "plt.legend()\n",
    "labels = ['Sunny','Cloudy','Rainy']\n",
    "plt.xticks(index, labels)\n",
    "\n",
    "plt.show()"
   ]
  },
  {
   "cell_type": "markdown",
   "metadata": {},
   "source": [
    "### Zistenie rozlíšení obrázkov"
   ]
  },
  {
   "cell_type": "code",
   "execution_count": 19,
   "metadata": {},
   "outputs": [],
   "source": [
    "Shapes = {(0,0)}"
   ]
  },
  {
   "cell_type": "code",
   "execution_count": null,
   "metadata": {},
   "outputs": [],
   "source": [
    "for image in PUC_Sunny_Empty:\n",
    "    img = cv2.imread(image)\n",
    "    Shapes.add(img.shape[:2])\n",
    "for image in PUC_Sunny_Empty:\n",
    "    img = cv2.imread(image)\n",
    "    Shapes.add(img.shape[:2])\n",
    "for image in PUC_Sunny_Occupied:\n",
    "    img = cv2.imread(image)\n",
    "    Shapes.add(img.shape[:2])\n",
    "for image in PUC_Cloudy_Empty:\n",
    "    img = cv2.imread(image)\n",
    "    Shapes.add(img.shape[:2])\n",
    "for image in PUC_Cloudy_Occupied:\n",
    "    img = cv2.imread(image)\n",
    "    Shapes.add(img.shape[:2])\n",
    "for image in PUC_Rainy_Empty:\n",
    "    img = cv2.imread(image)\n",
    "    Shapes.add(img.shape[:2])\n",
    "for image in PUC_Rainy_Occupied:\n",
    "    img = cv2.imread(image)\n",
    "    Shapes.add(img.shape[:2])"
   ]
  },
  {
   "cell_type": "code",
   "execution_count": 25,
   "metadata": {},
   "outputs": [
    {
     "name": "stdout",
     "output_type": "stream",
     "text": [
      "Vsetky obrazky maju 93 roznych rozliseni\n",
      "{(49, 37), (47, 35), (68, 39), (48, 37), (49, 32), (53, 40), (52, 32), (50, 39), (54, 39), (57, 34), (40, 38), (67, 46), (41, 39), (43, 36), (63, 41), (52, 42), (49, 35), (47, 40), (46, 32), (70, 54), (69, 54), (58, 48), (50, 40), (43, 30), (59, 46), (64, 55), (65, 54), (40, 32), (67, 40), (65, 40), (62, 42), (75, 36), (73, 52), (47, 31), (36, 35), (62, 39), (48, 38), (70, 39), (49, 39), (46, 36), (64, 49), (54, 36), (57, 33), (62, 45), (44, 32), (51, 37), (56, 46), (52, 38), (56, 33), (58, 44), (43, 34), (42, 38), (38, 32), (61, 43), (51, 32), (67, 43), (48, 28), (66, 44), (51, 42), (71, 56), (39, 34), (48, 39), (50, 37), (49, 43), (58, 40), (55, 32), (59, 37), (55, 45), (43, 38), (67, 37), (63, 36), (47, 39), (53, 38), (82, 54), (43, 37), (68, 40), (69, 45), (67, 53), (68, 54), (0, 0), (75, 49), (64, 47), (55, 42), (59, 47), (65, 46), (61, 32), (43, 32), (63, 45), (50, 31), (46, 41), (65, 36), (37, 32), (44, 40)}\n"
     ]
    }
   ],
   "source": [
    "print(\"Vsetky obrazky maju \"+str(len(Shapes))+\" roznych rozliseni\")\n",
    "print(Shapes)"
   ]
  },
  {
   "cell_type": "markdown",
   "metadata": {},
   "source": [
    "Identifikovali sme 93 rôznych rozlíšení, ktoré sme opravovali pri načítaní dát pred trénovaním modelu"
   ]
  },
  {
   "cell_type": "markdown",
   "metadata": {},
   "source": [
    "### Farba a osvetlenie"
   ]
  },
  {
   "cell_type": "markdown",
   "metadata": {},
   "source": [
    "Farba obrázka bola rôzna v závislosti od farby auta alebo vlhkosti parkoviska. My sme chceli predísť rôznym problémom pri učení v závislosti s farbou tak sme pri načítaní dát aplikovali GRAYSCALE filter na všetky obrázky."
   ]
  },
  {
   "cell_type": "markdown",
   "metadata": {},
   "source": [
    "Osvetlenie obrázkov sme tiež nechceli upravovať, kvôli trom podmienkam počasia, ktoré sa v dátach nachádzajú. \n",
    "\n",
    "Keby sme upravovali osvetlenie tak by sa stratil rozdiel medzi obrázkami, ktoré boli nasnímané v slnečnom počasí a tými ktoré boli nasnímané v oblačnom počasí."
   ]
  }
 ],
 "metadata": {
  "kernelspec": {
   "display_name": "Python 3",
   "language": "python",
   "name": "python3"
  },
  "language_info": {
   "codemirror_mode": {
    "name": "ipython",
    "version": 3
   },
   "file_extension": ".py",
   "mimetype": "text/x-python",
   "name": "python",
   "nbconvert_exporter": "python",
   "pygments_lexer": "ipython3",
   "version": "3.7.0"
  }
 },
 "nbformat": 4,
 "nbformat_minor": 2
}
