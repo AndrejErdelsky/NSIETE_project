{
 "cells": [
  {
   "cell_type": "code",
   "execution_count": 1,
   "metadata": {},
   "outputs": [
    {
     "name": "stderr",
     "output_type": "stream",
     "text": [
      "Using TensorFlow backend.\n"
     ]
    }
   ],
   "source": [
    "import keras\n",
    "from IPython.display import Image"
   ]
  },
  {
   "cell_type": "code",
   "execution_count": 2,
   "metadata": {},
   "outputs": [],
   "source": [
    "import os\n",
    "import random\n",
    "import re\n",
    "from PIL import Image"
   ]
  },
  {
   "cell_type": "code",
   "execution_count": 3,
   "metadata": {},
   "outputs": [],
   "source": [
    "DATA_PATH = 'D:\\Dataset\\\\'\n",
    "FRAME_PATH = DATA_PATH +'frames\\\\'\n",
    "MASK_PATH = DATA_PATH +'masks\\\\'\n"
   ]
  },
  {
   "cell_type": "code",
   "execution_count": 4,
   "metadata": {},
   "outputs": [],
   "source": [
    "# Create folders to hold images and masks\n",
    "\n",
    "folders = ['train_frames\\\\train', 'train_masks\\\\train', 'val_frames\\\\val', 'val_masks\\\\val', 'test_frames\\\\test', 'test_masks\\\\test']\n",
    "\n",
    "\n",
    "for folder in folders:\n",
    "    os.makedirs(DATA_PATH + folder)"
   ]
  },
  {
   "cell_type": "code",
   "execution_count": 5,
   "metadata": {},
   "outputs": [],
   "source": [
    "all_frames = os.listdir(FRAME_PATH)\n",
    "all_masks = os.listdir(MASK_PATH)"
   ]
  },
  {
   "cell_type": "code",
   "execution_count": 6,
   "metadata": {},
   "outputs": [],
   "source": [
    "all_frames.sort(key=lambda var:[int(x) if x.isdigit() else x \n",
    "                                for x in re.findall(r'[^0-9]|[0-9]+', var)])\n",
    "all_masks.sort(key=lambda var:[int(x) if x.isdigit() else x \n",
    "                               for x in re.findall(r'[^0-9]|[0-9]+', var)])"
   ]
  },
  {
   "cell_type": "code",
   "execution_count": 217,
   "metadata": {},
   "outputs": [],
   "source": [
    "random.seed(21)\n",
    "random.shuffle(all_frames)"
   ]
  },
  {
   "cell_type": "code",
   "execution_count": 7,
   "metadata": {},
   "outputs": [],
   "source": [
    "# Generate train, val, and test sets for frames\n",
    "\n",
    "train_split = int(0.7*len(all_frames))\n",
    "val_split = int(0.9 * len(all_frames))\n",
    "\n",
    "train_frames = all_frames[:train_split]\n",
    "val_frames = all_frames[train_split:val_split]\n",
    "test_frames = all_frames[val_split:]"
   ]
  },
  {
   "cell_type": "code",
   "execution_count": 8,
   "metadata": {},
   "outputs": [],
   "source": [
    "# Generate corresponding mask lists for masks\n",
    "\n",
    "train_masks = [f for f in all_masks if f in train_frames]\n",
    "val_masks = [f for f in all_masks if f in val_frames]\n",
    "test_masks = [f for f in all_masks if f in test_frames]"
   ]
  },
  {
   "cell_type": "code",
   "execution_count": 10,
   "metadata": {},
   "outputs": [],
   "source": [
    "def add_frames(dir_name, image):\n",
    "  \n",
    "  img = Image.open(FRAME_PATH+image)\n",
    "  img.save(DATA_PATH+'/{}'.format(dir_name)+'\\\\'+image)\n",
    "  \n",
    "  \n",
    "  \n",
    "def add_masks(dir_name, image):\n",
    "  \n",
    "  img = Image.open(MASK_PATH+image)\n",
    "  img.save(DATA_PATH+'/{}'.format(dir_name)+'\\\\'+image)"
   ]
  },
  {
   "cell_type": "code",
   "execution_count": 14,
   "metadata": {},
   "outputs": [],
   "source": [
    "frame_folders = [(train_frames, 'train_frames\\\\train'), (val_frames, 'val_frames\\\\val'), \n",
    "                 (test_frames, 'test_frames\\\\test')]\n",
    "\n",
    "mask_folders = [(train_masks, 'train_masks\\\\train'), (val_masks, 'val_masks\\\\val'), \n",
    "                (test_masks, 'test_masks\\\\test')]\n"
   ]
  },
  {
   "cell_type": "code",
   "execution_count": 15,
   "metadata": {},
   "outputs": [],
   "source": [
    "for folder in frame_folders:\n",
    "  \n",
    "  array = folder[0]\n",
    "  name = [folder[1]] * len(array)\n",
    "\n",
    "  list(map(add_frames, name, array))"
   ]
  },
  {
   "cell_type": "code",
   "execution_count": 16,
   "metadata": {},
   "outputs": [],
   "source": [
    "for folder in mask_folders:\n",
    "  \n",
    "  array = folder[0]\n",
    "  name = [folder[1]] * len(array)\n",
    "  \n",
    "  list(map(add_masks, name, array))"
   ]
  },
  {
   "cell_type": "code",
   "execution_count": 18,
   "metadata": {},
   "outputs": [],
   "source": [
    "from keras.preprocessing.image import ImageDataGenerator"
   ]
  },
  {
   "cell_type": "code",
   "execution_count": 19,
   "metadata": {},
   "outputs": [],
   "source": [
    "train_datagen = ImageDataGenerator()\n",
    "val_datagen = ImageDataGenerator()"
   ]
  },
  {
   "cell_type": "code",
   "execution_count": 28,
   "metadata": {},
   "outputs": [
    {
     "name": "stdout",
     "output_type": "stream",
     "text": [
      "Found 14 images belonging to 1 classes.\n",
      "Found 14 images belonging to 1 classes.\n",
      "Found 4 images belonging to 1 classes.\n",
      "Found 4 images belonging to 1 classes.\n"
     ]
    }
   ],
   "source": [
    "train_image_generator = train_datagen.flow_from_directory(\n",
    "'D:/Dataset/train_frames',\n",
    "    batch_size = 2)\n",
    "\n",
    "train_mask_generator = train_datagen.flow_from_directory(\n",
    "'D:/Dataset/train_masks',\n",
    "batch_size = 2)\n",
    "\n",
    "# train_image_generator = train_datagen.flow_from_directory(\n",
    "#     directory=r'D:/Dataset/train_frames',\n",
    "#     batch_size=4,\n",
    "# )\n",
    "val_image_generator = val_datagen.flow_from_directory(\n",
    "'D:/Dataset/val_frames',\n",
    "    target_size = (314,174),\n",
    "    color_mode = 'grayscale',\n",
    "batch_size = 2)\n",
    "\n",
    "\n",
    "val_mask_generator = val_datagen.flow_from_directory(\n",
    "'D:/Dataset/val_masks',\n",
    "    target_size = (314,174),\n",
    "    color_mode = 'grayscale',\n",
    "batch_size = 2)\n",
    "\n",
    "\n",
    "\n",
    "train_generator = zip(train_image_generator, train_mask_generator)\n",
    "val_generator = zip(val_image_generator, val_mask_generator)"
   ]
  },
  {
   "cell_type": "code",
   "execution_count": 29,
   "metadata": {},
   "outputs": [
    {
     "data": {
      "text/plain": [
       "(314, 174, 1)"
      ]
     },
     "execution_count": 29,
     "metadata": {},
     "output_type": "execute_result"
    }
   ],
   "source": [
    "val_mask_generator.image_shape"
   ]
  }
 ],
 "metadata": {
  "kernelspec": {
   "display_name": "Python 3",
   "language": "python",
   "name": "python3"
  },
  "language_info": {
   "codemirror_mode": {
    "name": "ipython",
    "version": 3
   },
   "file_extension": ".py",
   "mimetype": "text/x-python",
   "name": "python",
   "nbconvert_exporter": "python",
   "pygments_lexer": "ipython3",
   "version": "3.7.0"
  }
 },
 "nbformat": 4,
 "nbformat_minor": 2
}
