{
 "cells": [
  {
   "cell_type": "code",
   "execution_count": 1,
   "metadata": {
    "pycharm": {
     "is_executing": false
    }
   },
   "outputs": [
    {
     "name": "stderr",
     "text": [
      "Using TensorFlow backend.\n"
     ],
     "output_type": "stream"
    }
   ],
   "source": [
    "import keras\n",
    "from IPython.display import Image"
   ]
  },
  {
   "cell_type": "code",
   "execution_count": 2,
   "metadata": {
    "pycharm": {
     "is_executing": false
    }
   },
   "outputs": [],
   "source": [
    "import os\n",
    "import random\n",
    "import re\n",
    "from PIL import Image"
   ]
  },
  {
   "cell_type": "markdown",
   "metadata": {},
   "source": [
    "# Rozdelenie snimkov na train, val a test"
   ]
  },
  {
   "cell_type": "code",
   "execution_count": 3,
   "metadata": {
    "pycharm": {
     "is_executing": false
    }
   },
   "outputs": [],
   "source": [
    "DATA_PATH = 'C:\\Dataset\\\\'\n",
    "FRAME_PATH = DATA_PATH +'Snimky\\\\'\n",
    "MASK_PATH = DATA_PATH +'Mask\\\\'\n"
   ]
  },
  {
   "cell_type": "code",
   "execution_count": 4,
   "metadata": {
    "pycharm": {
     "is_executing": false
    }
   },
   "outputs": [],
   "source": [
    "# Create folders to hold images and masks\n",
    "\n",
    "folders = ['train_frames\\\\train', 'train_masks\\\\train', 'val_frames\\\\val', 'val_masks\\\\val', 'test_frames\\\\test', 'test_masks\\\\test']\n",
    "\n",
    "\n",
    "for folder in folders:\n",
    "    os.makedirs(DATA_PATH + folder)"
   ]
  },
  {
   "cell_type": "code",
   "execution_count": 5,
   "metadata": {
    "pycharm": {
     "is_executing": false
    }
   },
   "outputs": [],
   "source": [
    "all_frames = os.listdir(FRAME_PATH)\n",
    "all_masks = os.listdir(MASK_PATH)"
   ]
  },
  {
   "cell_type": "code",
   "execution_count": 6,
   "metadata": {
    "pycharm": {
     "is_executing": false
    }
   },
   "outputs": [],
   "source": [
    "all_frames.sort(key=lambda var:[int(x) if x.isdigit() else x \n",
    "                                for x in re.findall(r'[^0-9]|[0-9]+', var)])\n",
    "all_masks.sort(key=lambda var:[int(x) if x.isdigit() else x \n",
    "                               for x in re.findall(r'[^0-9]|[0-9]+', var)])"
   ]
  },
  {
   "cell_type": "code",
   "execution_count": 217,
   "metadata": {},
   "outputs": [],
   "source": [
    "#  NEROBIT TOTO LEBO TO PREMIESA A POTOM TO NENAMAPUJE PRESNE TAK AKO CHCEME\n",
    "# random.seed(21)\n",
    "# random.shuffle(all_frames)"
   ]
  },
  {
   "cell_type": "code",
   "execution_count": 7,
   "metadata": {
    "pycharm": {
     "is_executing": false
    }
   },
   "outputs": [],
   "source": [
    "# Generate train, val, and test sets for frames\n",
    "\n",
    "train_split = int(0.7*len(all_frames))\n",
    "val_split = int(0.9 * len(all_frames))\n",
    "\n",
    "train_frames = all_frames[:train_split]\n",
    "val_frames = all_frames[train_split:val_split]\n",
    "test_frames = all_frames[val_split:]"
   ]
  },
  {
   "cell_type": "code",
   "execution_count": 8,
   "metadata": {
    "pycharm": {
     "is_executing": false
    }
   },
   "outputs": [],
   "source": [
    "# Generate corresponding mask lists for masks\n",
    "\n",
    "train_masks = [f for f in all_masks if f in train_frames]\n",
    "val_masks = [f for f in all_masks if f in val_frames]\n",
    "test_masks = [f for f in all_masks if f in test_frames]"
   ]
  },
  {
   "cell_type": "code",
   "execution_count": 9,
   "metadata": {
    "pycharm": {
     "is_executing": false
    }
   },
   "outputs": [],
   "source": [
    "def add_frames(dir_name, image):\n",
    "  \n",
    "  img = Image.open(FRAME_PATH+image)\n",
    "  img.save(DATA_PATH+'/{}'.format(dir_name)+'\\\\'+image)\n",
    "  \n",
    "  \n",
    "  \n",
    "def add_masks(dir_name, image):\n",
    "  \n",
    "  img = Image.open(MASK_PATH+image)\n",
    "  img.save(DATA_PATH+'/{}'.format(dir_name)+'\\\\'+image)"
   ]
  },
  {
   "cell_type": "code",
   "execution_count": 10,
   "metadata": {
    "pycharm": {
     "is_executing": false
    }
   },
   "outputs": [],
   "source": [
    "frame_folders = [(train_frames, 'train_frames\\\\train'), (val_frames, 'val_frames\\\\val'), \n",
    "                 (test_frames, 'test_frames\\\\test')]\n",
    "\n",
    "mask_folders = [(train_masks, 'train_masks\\\\train'), (val_masks, 'val_masks\\\\val'), \n",
    "                (test_masks, 'test_masks\\\\test')]\n"
   ]
  },
  {
   "cell_type": "code",
   "execution_count": 11,
   "metadata": {
    "pycharm": {
     "is_executing": false
    }
   },
   "outputs": [],
   "source": [
    "for folder in frame_folders:\n",
    "  \n",
    "  array = folder[0]\n",
    "  name = [folder[1]] * len(array)\n",
    "\n",
    "  list(map(add_frames, name, array))"
   ]
  },
  {
   "cell_type": "code",
   "execution_count": 12,
   "metadata": {
    "pycharm": {
     "is_executing": false
    }
   },
   "outputs": [],
   "source": [
    "for folder in mask_folders:\n",
    "  \n",
    "  array = folder[0]\n",
    "  name = [folder[1]] * len(array)\n",
    "  \n",
    "  list(map(add_masks, name, array))"
   ]
  },
  {
   "cell_type": "markdown",
   "metadata": {},
   "source": [
    "# Vytvorenie generatoru"
   ]
  },
  {
   "cell_type": "markdown",
   "metadata": {},
   "source": [
    "## Potrebna organizacia priecinkov"
   ]
  },
  {
   "cell_type": "markdown",
   "metadata": {},
   "source": [
    "![dir_organisation](priecinky.jpg)"
   ]
  },
  {
   "cell_type": "markdown",
   "metadata": {},
   "source": [
    "## definovanie generatora"
   ]
  },
  {
   "cell_type": "code",
   "execution_count": 13,
   "metadata": {
    "pycharm": {
     "is_executing": false
    }
   },
   "outputs": [],
   "source": [
    "from keras.preprocessing.image import ImageDataGenerator"
   ]
  },
  {
   "cell_type": "code",
   "execution_count": 14,
   "metadata": {
    "pycharm": {
     "is_executing": false
    }
   },
   "outputs": [],
   "source": [
    "train_datagen = ImageDataGenerator()\n",
    "val_datagen = ImageDataGenerator()"
   ]
  },
  {
   "cell_type": "code",
   "execution_count": 15,
   "metadata": {
    "pycharm": {
     "is_executing": false
    }
   },
   "outputs": [
    {
     "name": "stdout",
     "text": [
      "Found 1750 images belonging to 1 classes.\n",
      "Found 1750 images belonging to 1 classes.\nFound 500 images belonging to 1 classes.\nFound 500 images belonging to 1 classes.",
      "\n"
     ],
     "output_type": "stream"
    }
   ],
   "source": [
    "train_image_generator = train_datagen.flow_from_directory(\n",
    "'C:/Dataset/train_frames',\n",
    "    target_size = (320,320),\n",
    "    class_mode= None,\n",
    "    batch_size = 2)\n",
    "\n",
    "train_mask_generator = train_datagen.flow_from_directory(\n",
    "'C:/Dataset/train_masks',\n",
    "    target_size = (320,320),\n",
    "    class_mode= None,\n",
    "    color_mode = 'grayscale',\n",
    "batch_size = 2)\n",
    "\n",
    "\n",
    "val_image_generator = val_datagen.flow_from_directory(\n",
    "'C:/Dataset/val_frames',\n",
    "    target_size = (320,320),\n",
    "    class_mode= None,\n",
    "    batch_size = 2)\n",
    "\n",
    "\n",
    "val_mask_generator = val_datagen.flow_from_directory(\n",
    "'C:/Dataset/val_masks',\n",
    "    target_size = (320,320),\n",
    "    class_mode= None,\n",
    "    color_mode = 'grayscale',\n",
    "batch_size = 2)\n",
    "\n",
    "\n",
    "\n",
    "train_generator = zip(train_image_generator, train_mask_generator)\n",
    "val_generator = zip(val_image_generator, val_mask_generator)"
   ]
  },
  {
   "cell_type": "markdown",
   "metadata": {},
   "source": [
    "# Skuska generatoru"
   ]
  },
  {
   "cell_type": "markdown",
   "metadata": {},
   "source": [
    "**Nacitanie modelu**"
   ]
  },
  {
   "cell_type": "code",
   "execution_count": 16,
   "metadata": {
    "pycharm": {
     "is_executing": false
    }
   },
   "outputs": [],
   "source": [
    "from src.Model import get_unet"
   ]
  },
  {
   "cell_type": "code",
   "execution_count": 17,
   "metadata": {
    "pycharm": {
     "is_executing": false
    }
   },
   "outputs": [],
   "source": [
    "input_img = keras.layers.Input(shape=(320,320,3))\n",
    "model = get_unet(input_img)"
   ]
  },
  {
   "cell_type": "code",
   "execution_count": 18,
   "metadata": {
    "scrolled": false,
    "pycharm": {
     "is_executing": false
    }
   },
   "outputs": [
    {
     "name": "stdout",
     "text": [
      "Model: \"model_1\"\n__________________________________________________________________________________________________\nLayer (type)                    Output Shape         Param #     Connected to                     \n==================================================================================================\ninput_1 (InputLayer)            (None, 320, 320, 3)  0                                            \n__________________________________________________________________________________________________\nconv2d_2 (Conv2D)               (None, 320, 320, 16) 448         input_1[0][0]                    \n__________________________________________________________________________________________________\nbatch_normalization_2 (BatchNor (None, 320, 320, 16) 64          conv2d_2[0][0]                   \n__________________________________________________________________________________________________\nactivation_2 (Activation)       (None, 320, 320, 16) 0           batch_normalization_2[0][0]      \n__________________________________________________________________________________________________\nmax_pooling2d_1 (MaxPooling2D)  (None, 160, 160, 16) 0           activation_2[0][0]               \n__________________________________________________________________________________________________\ndropout_1 (Dropout)             (None, 160, 160, 16) 0           max_pooling2d_1[0][0]            \n__________________________________________________________________________________________________\nconv2d_4 (Conv2D)               (None, 160, 160, 32) 4640        dropout_1[0][0]                  \n__________________________________________________________________________________________________\nbatch_normalization_4 (BatchNor (None, 160, 160, 32) 128         conv2d_4[0][0]                   \n__________________________________________________________________________________________________\nactivation_4 (Activation)       (None, 160, 160, 32) 0           batch_normalization_4[0][0]      \n__________________________________________________________________________________________________\nmax_pooling2d_2 (MaxPooling2D)  (None, 80, 80, 32)   0           activation_4[0][0]               \n__________________________________________________________________________________________________\ndropout_2 (Dropout)             (None, 80, 80, 32)   0           max_pooling2d_2[0][0]            \n__________________________________________________________________________________________________\nconv2d_6 (Conv2D)               (None, 80, 80, 64)   18496       dropout_2[0][0]                  \n__________________________________________________________________________________________________\nbatch_normalization_6 (BatchNor (None, 80, 80, 64)   256         conv2d_6[0][0]                   \n__________________________________________________________________________________________________\nactivation_6 (Activation)       (None, 80, 80, 64)   0           batch_normalization_6[0][0]      \n__________________________________________________________________________________________________\nmax_pooling2d_3 (MaxPooling2D)  (None, 40, 40, 64)   0           activation_6[0][0]               \n__________________________________________________________________________________________________\ndropout_3 (Dropout)             (None, 40, 40, 64)   0           max_pooling2d_3[0][0]            \n__________________________________________________________________________________________________\nconv2d_8 (Conv2D)               (None, 40, 40, 128)  73856       dropout_3[0][0]                  \n__________________________________________________________________________________________________\nbatch_normalization_8 (BatchNor (None, 40, 40, 128)  512         conv2d_8[0][0]                   \n__________________________________________________________________________________________________\nactivation_8 (Activation)       (None, 40, 40, 128)  0           batch_normalization_8[0][0]      \n__________________________________________________________________________________________________\nmax_pooling2d_4 (MaxPooling2D)  (None, 20, 20, 128)  0           activation_8[0][0]               \n__________________________________________________________________________________________________\ndropout_4 (Dropout)             (None, 20, 20, 128)  0           max_pooling2d_4[0][0]            \n__________________________________________________________________________________________________\nconv2d_10 (Conv2D)              (None, 20, 20, 256)  295168      dropout_4[0][0]                  \n__________________________________________________________________________________________________\nbatch_normalization_10 (BatchNo (None, 20, 20, 256)  1024        conv2d_10[0][0]                  \n__________________________________________________________________________________________________\nactivation_10 (Activation)      (None, 20, 20, 256)  0           batch_normalization_10[0][0]     \n__________________________________________________________________________________________________\nconv2d_transpose_1 (Conv2DTrans (None, 40, 40, 128)  295040      activation_10[0][0]              \n__________________________________________________________________________________________________\nconcatenate_1 (Concatenate)     (None, 40, 40, 256)  0           conv2d_transpose_1[0][0]         \n                                                                 activation_8[0][0]               \n__________________________________________________________________________________________________\ndropout_5 (Dropout)             (None, 40, 40, 256)  0           concatenate_1[0][0]              \n__________________________________________________________________________________________________\nconv2d_12 (Conv2D)              (None, 40, 40, 128)  295040      dropout_5[0][0]                  \n__________________________________________________________________________________________________\nbatch_normalization_12 (BatchNo (None, 40, 40, 128)  512         conv2d_12[0][0]                  \n__________________________________________________________________________________________________\nactivation_12 (Activation)      (None, 40, 40, 128)  0           batch_normalization_12[0][0]     \n__________________________________________________________________________________________________\nconv2d_transpose_2 (Conv2DTrans (None, 80, 80, 64)   73792       activation_12[0][0]              \n__________________________________________________________________________________________________\nconcatenate_2 (Concatenate)     (None, 80, 80, 128)  0           conv2d_transpose_2[0][0]         \n                                                                 activation_6[0][0]               \n__________________________________________________________________________________________________\ndropout_6 (Dropout)             (None, 80, 80, 128)  0           concatenate_2[0][0]              \n__________________________________________________________________________________________________\nconv2d_14 (Conv2D)              (None, 80, 80, 64)   73792       dropout_6[0][0]                  \n__________________________________________________________________________________________________\nbatch_normalization_14 (BatchNo (None, 80, 80, 64)   256         conv2d_14[0][0]                  \n__________________________________________________________________________________________________\nactivation_14 (Activation)      (None, 80, 80, 64)   0           batch_normalization_14[0][0]     \n__________________________________________________________________________________________________\nconv2d_transpose_3 (Conv2DTrans (None, 160, 160, 32) 18464       activation_14[0][0]              \n__________________________________________________________________________________________________\nconcatenate_3 (Concatenate)     (None, 160, 160, 64) 0           conv2d_transpose_3[0][0]         \n                                                                 activation_4[0][0]               \n__________________________________________________________________________________________________\ndropout_7 (Dropout)             (None, 160, 160, 64) 0           concatenate_3[0][0]              \n__________________________________________________________________________________________________\nconv2d_16 (Conv2D)              (None, 160, 160, 32) 18464       dropout_7[0][0]                  \n__________________________________________________________________________________________________\nbatch_normalization_16 (BatchNo (None, 160, 160, 32) 128         conv2d_16[0][0]                  \n__________________________________________________________________________________________________\nactivation_16 (Activation)      (None, 160, 160, 32) 0           batch_normalization_16[0][0]     \n__________________________________________________________________________________________________\nconv2d_transpose_4 (Conv2DTrans (None, 320, 320, 16) 4624        activation_16[0][0]              \n__________________________________________________________________________________________________\nconcatenate_4 (Concatenate)     (None, 320, 320, 32) 0           conv2d_transpose_4[0][0]         \n                                                                 activation_2[0][0]               \n__________________________________________________________________________________________________\ndropout_8 (Dropout)             (None, 320, 320, 32) 0           concatenate_4[0][0]              \n__________________________________________________________________________________________________\nconv2d_18 (Conv2D)              (None, 320, 320, 16) 4624        dropout_8[0][0]                  \n__________________________________________________________________________________________________\nbatch_normalization_18 (BatchNo (None, 320, 320, 16) 64          conv2d_18[0][0]                  \n__________________________________________________________________________________________________\nactivation_18 (Activation)      (None, 320, 320, 16) 0           batch_normalization_18[0][0]     \n__________________________________________________________________________________________________\nconv2d_19 (Conv2D)              (None, 320, 320, 1)  17          activation_18[0][0]              \n==================================================================================================\nTotal params: 1,179,409\nTrainable params: 1,177,937\nNon-trainable params: 1,472\n__________________________________________________________________________________________________\n"
     ],
     "output_type": "stream"
    }
   ],
   "source": [
    "model.summary()"
   ]
  },
  {
   "cell_type": "markdown",
   "metadata": {},
   "source": [
    "**Trenovanie**"
   ]
  },
  {
   "cell_type": "code",
   "execution_count": 19,
   "metadata": {
    "pycharm": {
     "is_executing": false
    }
   },
   "outputs": [],
   "source": [
    "optimizer = keras.optimizers.Adam(lr=1e-3)\n",
    "model.compile(optimizer=optimizer,\n",
    "              loss='mse',\n",
    "              metrics=['accuracy'],\n",
    "              #sample_weight_mode='temporal'\n",
    "              )"
   ]
  },
  {
   "cell_type": "code",
   "execution_count": 21,
   "metadata": {
    "pycharm": {
     "is_executing": false
    }
   },
   "outputs": [
    {
     "name": "stdout",
     "text": [
      "Epoch 1/2\n",
      "\r1/5 [=====>........................] - ETA: 9s - loss: 13958.1279 - accuracy: 0.3923",
      "\b\b\b\b\b\b\b\b\b\b\b\b\b\b\b\b\b\b\b\b\b\b\b\b\b\b\b\b\b\b\b\b\b\b\b\b\b\b\b\b\b\b\b\b\b\b\b\b\b\b\b\b\b\b\b\b\b\b\b\b\b\b\b\b\b\b\b\b\b\b\b\b\b\b\b\b\b\b\b\b\b\b\b\b\r2/5 [===========>..................] - ETA: 6s - loss: 10832.5730 - accuracy: 0.4337",
      "\b\b\b\b\b\b\b\b\b\b\b\b\b\b\b\b\b\b\b\b\b\b\b\b\b\b\b\b\b\b\b\b\b\b\b\b\b\b\b\b\b\b\b\b\b\b\b\b\b\b\b\b\b\b\b\b\b\b\b\b\b\b\b\b\b\b\b\b\b\b\b\b\b\b\b\b\b\b\b\b\b\b\b\b\r3/5 [=================>............] - ETA: 3s - loss: 10204.2231 - accuracy: 0.4351",
      "\b\b\b\b\b\b\b\b\b\b\b\b\b\b\b\b\b\b\b\b\b\b\b\b\b\b\b\b\b\b\b\b\b\b\b\b\b\b\b\b\b\b\b\b\b\b\b\b\b\b\b\b\b\b\b\b\b\b\b\b\b\b\b\b\b\b\b\b\b\b\b\b\b\b\b\b\b\b\b\b\b\b\b\b\r4/5 [=======================>......] - ETA: 1s - loss: 9437.6727 - accuracy: 0.4462 ",
      "\b\b\b\b\b\b\b\b\b\b\b\b\b\b\b\b\b\b\b\b\b\b\b\b\b\b\b\b\b\b\b\b\b\b\b\b\b\b\b\b\b\b\b\b\b\b\b\b\b\b\b\b\b\b\b\b\b\b\b\b\b\b\b\b\b\b\b\b\b\b\b\b\b\b\b\b\b\b\b\b\b\b\b\r5/5 [==============================] - 10s 2s/step - loss: 8756.0180 - accuracy: 0.4556\n",
      "Epoch 2/2\n",
      "\r1/5 [=====>........................] - ETA: 7s - loss: 12726.1504 - accuracy: 0.4736",
      "\b\b\b\b\b\b\b\b\b\b\b\b\b\b\b\b\b\b\b\b\b\b\b\b\b\b\b\b\b\b\b\b\b\b\b\b\b\b\b\b\b\b\b\b\b\b\b\b\b\b\b\b\b\b\b\b\b\b\b\b\b\b\b\b\b\b\b\b\b\b\b\b\b\b\b\b\b\b\b\b\b\b\b\b\r2/5 [===========>..................] - ETA: 6s - loss: 6651.3260 - accuracy: 0.5053 ",
      "\b\b\b\b\b\b\b\b\b\b\b\b\b\b\b\b\b\b\b\b\b\b\b\b\b\b\b\b\b\b\b\b\b\b\b\b\b\b\b\b\b\b\b\b\b\b\b\b\b\b\b\b\b\b\b\b\b\b\b\b\b\b\b\b\b\b\b\b\b\b\b\b\b\b\b\b\b\b\b\b\b\b\b\r3/5 [=================>............] - ETA: 4s - loss: 6756.0520 - accuracy: 0.5111",
      "\b\b\b\b\b\b\b\b\b\b\b\b\b\b\b\b\b\b\b\b\b\b\b\b\b\b\b\b\b\b\b\b\b\b\b\b\b\b\b\b\b\b\b\b\b\b\b\b\b\b\b\b\b\b\b\b\b\b\b\b\b\b\b\b\b\b\b\b\b\b\b\b\b\b\b\b\b\b\b\b\b\b\b\r4/5 [=======================>......] - ETA: 2s - loss: 6808.9123 - accuracy: 0.5177",
      "\b\b\b\b\b\b\b\b\b\b\b\b\b\b\b\b\b\b\b\b\b\b\b\b\b\b\b\b\b\b\b\b\b\b\b\b\b\b\b\b\b\b\b\b\b\b\b\b\b\b\b\b\b\b\b\b\b\b\b\b\b\b\b\b\b\b\b\b\b\b\b\b\b\b\b\b\b\b\b\b\b\b\b\r5/5 [==============================] - 10s 2s/step - loss: 5527.2706 - accuracy: 0.5126\n"
     ],
     "output_type": "stream"
    },
    {
     "data": {
      "text/plain": "<keras.callbacks.callbacks.History at 0x16af489c648>"
     },
     "metadata": {},
     "output_type": "execute_result",
     "execution_count": 21
    }
   ],
   "source": [
    "model.fit_generator(generator=train_generator,epochs=2,steps_per_epoch=5)"
   ]
  },
  {
   "cell_type": "markdown",
   "metadata": {},
   "source": [
    "# ulozenie modelu"
   ]
  },
  {
   "cell_type": "code",
   "execution_count": null,
   "metadata": {},
   "outputs": [],
   "source": [
    "model.save('Model.h5')"
   ]
  }
 ],
 "metadata": {
  "kernelspec": {
   "display_name": "Python 3",
   "language": "python",
   "name": "python3"
  },
  "language_info": {
   "codemirror_mode": {
    "name": "ipython",
    "version": 3
   },
   "file_extension": ".py",
   "mimetype": "text/x-python",
   "name": "python",
   "nbconvert_exporter": "python",
   "pygments_lexer": "ipython3",
   "version": "3.7.0"
  },
  "pycharm": {
   "stem_cell": {
    "cell_type": "raw",
    "source": [],
    "metadata": {
     "collapsed": false
    }
   }
  }
 },
 "nbformat": 4,
 "nbformat_minor": 2
}