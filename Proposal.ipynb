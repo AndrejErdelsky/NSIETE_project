{
 "cells": [
  {
   "cell_type": "markdown",
   "metadata": {},
   "source": [
    "# Neurónove siete\n",
    "## Proposal\n",
    "\n",
    "### Študenti:\n",
    "Andrej Erdélsky\n",
    "Marek Wallner\n",
    "### Cvičenie: \n",
    "Pondelok 12:00 – 13:50 Ing. Matúš Pikuliak\n",
    "### Téma: \n",
    "Detekcia voľných parkovacích miest na parkovisku\n",
    "\n",
    "### Motivácia:\n",
    "Nájsť voľné parkovacie miesto v centre mestách je bežná otázka každého motoristu. Často sa stáva, že motoristi vojdú na parkovisko a žiadne voľné miesto nie je k dispozícií. Tento problém sa dá vyriešiť senzormi na jednotlivých parkovacích miestach, ktoré detegujú, či je konkrétne parkovacie miesto obsadené alebo nie. Táto technológia však môže byť finančne náročná a tu sa naskytá otázka ako nájsť voľné parkovacie miesta efektívnejšie. Väčšina parkovísk je chránená video záznamom, ktorý by sa mohol použiť na detegovanie týchto voľných miest a prevádzkovateľom by sa mohli ušetriť peniaze za drahú technológiu senzorov. Preto sme sa rozhodli využiť počítačové videnie k tomu aby sa z fotografií parkoviska vedeli detegovať voľné parkovacie miesta.\n",
    "\n",
    "Náš model pomocou počítačového videnia bude schopný detegovať voľné parkovacie miesta na parkovisku rôzneho typu. Toto parkovisko bude však musieť mať parkovacie miesta vyznačené čiarami na cestnej komunikácií. Model bude trénovaný, testovaný a nasadený na statickom obraze (fotografiách). \n",
    "\n",
    "Výstupom bude detegovanie voľných a obsadených parkovacích miest aj s ich početnosťou.\n",
    "\n",
    "### Related work:\n",
    "V práci Jagersand Parking Stall Vacancy Indicator System Based on Deep Convolutional Neural Networks (dostupné: https://arxiv.org/pdf/1606.09367.pdf) sa rozhodli použiť deep Convolutional Neural Networks na rozpoznávanie voľných parkovacích miest, pretože je to lacnejšie riešenie ako používanie senzorov na parkovacích miestach. Ako datasety použili snímky za rôzneho počasia a rôznych typov parkovacích miest. Tieto datasety obsahovali tri parkoviská v štáte Parana. Každé parkovisko rozdelili na 50% train data a 50% testing data. Riešili aj možnosť použitia kamery spolu s radarom. Radar by mohol mať lepšie výsledky za zníženej viditeľnosti. Výsledkom natrénovania modelu boli najlepšie hodnoty na testovacích dátach : Accuracy-0.9989, False Positive- 0.0162, False Negative- 0.0015. Výstupom práce bola mobilná aplikácia, ktorá používateľovi zobrazila číslo voľného parkovacieho miesta.\n",
    "\n",
    "V ďalšej vedeckej práci Deep learning for decentralized parking lot occupancy detection sa taktiež venovali rozpoznávaniu parkovacích miest. Pri svojom trénovacom modeli sa nechali inšpirovať známym modelom AlexNet. Vymysleli svoj model s názvom mAlexNet(mini AlexNet). V tomto modeli(mAlexNet) sú použité 3 konvolučné vrstvy a 2 plne prepojené vrstvy vrátane výstupnej vrstvy. Na trénovanie svojho modelu použili CNRPark+EXT a PKLot datasety(opísané v sekcii nižšie)\n",
    "\n",
    "### Dataset:\n",
    "Na natrénovanie nášho modelu sme sa rozhodli použiť nasledovné datasety:\n",
    "1.\tParking Lot Database (http://web.inf.ufpr.br/vri/databases/parking-lot-database/?fbclid=IwAR2o6L-Jc4sc4rcjmlJ8tRnlJ9-emdpPNuhGzcqkNs5ZltyUDgZC4O5XYIM): tento dataset obsahuje 12417 snímkov parkovísk. Na snímkoch sú zobrazené dva typy parkovacích miest(kolmé parkovanie, šikmé parkovanie). Každý snímok má aj svoju xml reprezentáciu, vďaka ktorej vieme určiť jednotlivé parkovacie miesta. Snímky sú zaznamenané v troch rôznych počasiach(oblačno, daždivo a slnečno).\n",
    "\n",
    "2.\tCNRPark+EXT (http://www.cnrpark.it/?fbclid=IwAR2AEzEySEtjDVKxnKmAzuAcrdU7nZi8lOciYFG-pKA70dOTvZ1mTqBwjkw): dataset obsahujúci 4081 snímkov v ktorých je označených 144965 parkovacích miest v troch rôznych podmienkach(oblačno, daždivo a slnečno).  Dataset obsahuje celé snímky ale aj vysegmentované jednotlivé parkovacie miesta (obsadené aj voľné).\n",
    "\n",
    "### High level concept proposal:\n",
    "Existujúce vedecké práce, ktoré sme preštudovali použili dva rôzne modely. Prvý bol VGGNet-f a druhý bol mAlexNet, ktorý vychádza zo známeho AlexNet modelu. Našou snahou bude vychádzať z týchto prác. Na prácu použijeme taktiež rovnaké datasety ako boli použité  v týchto prácach."
   ]
  }
 ],
 "metadata": {
  "kernelspec": {
   "display_name": "Python 3",
   "language": "python",
   "name": "python3"
  },
  "language_info": {
   "codemirror_mode": {
    "name": "ipython",
    "version": 3
   },
   "file_extension": ".py",
   "mimetype": "text/x-python",
   "name": "python",
   "nbconvert_exporter": "python",
   "pygments_lexer": "ipython3",
   "version": "3.6.8"
  }
 },
 "nbformat": 4,
 "nbformat_minor": 2
}
