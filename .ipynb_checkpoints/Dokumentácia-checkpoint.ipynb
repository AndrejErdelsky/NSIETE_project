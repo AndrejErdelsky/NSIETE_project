{
 "cells": [
  {
   "cell_type": "markdown",
   "metadata": {},
   "source": [
    "# Analýza datasetu"
   ]
  },
  {
   "cell_type": "markdown",
   "metadata": {},
   "source": [
    "Náš dataset obsahuje obrázky z troch nezávislých parkovísk. Každé parkovisku bolo snímané v rôznych časoch a rôznych podmienok počasia. Pre každý dataset sú pripravené obrázky pri každom z troch podmienok počasia: slnečno, oblačno a daždivo. Náš Dataset taktiež obsahuje vysegmentované jednotlivé parkovacie miesta zo svojím označením (obsadené/voľné). Náš Baseline sme trénovali na týchto segmentovaných obrázkoch jednotlivých parkovacích miest a snažili sme sa klasifikovať, či na obrázku je alebo nie je auto."
   ]
  },
  {
   "cell_type": "code",
   "execution_count": 1,
   "metadata": {
    "pycharm": {
     "is_executing": false
    }
   },
   "outputs": [],
   "source": [
    "import os\n",
    "import glob\n",
    "import matplotlib.pyplot as plt\n",
    "import cv2\n",
    "import pandas"
   ]
  },
  {
   "cell_type": "markdown",
   "metadata": {},
   "source": [
    "Načítanie segmentovaných obrázkov na Jednotlivých parkoviskách parkovisku"
   ]
  },
  {
   "cell_type": "code",
   "execution_count": null,
   "metadata": {
    "pycharm": {
     "is_executing": true
    }
   },
   "outputs": [],
   "source": [
    "PUC_Sunny_Empty = glob.glob(\"D:\\\\Dataset\\PKLot\\PKLot\\PKLotSegmented\\PUC\\Sunny\\*\\Empty\\*.jpg\")\n",
    "PUC_Sunny_Occupied = glob.glob(\"D:\\\\Dataset\\PKLot\\PKLot\\PKLotSegmented\\PUC\\Sunny\\*\\Occupied\\*.jpg\")\n",
    "PUC_Rainy_Empty = glob.glob(\"D:\\\\Dataset\\PKLot\\PKLot\\PKLotSegmented\\PUC\\Rainy\\*\\Empty\\*.jpg\")\n",
    "PUC_Rainy_Occupied = glob.glob(\"D:\\\\Dataset\\PKLot\\PKLot\\PKLotSegmented\\PUC\\Rainy\\*\\Occupied\\*.jpg\")\n",
    "PUC_Cloudy_Empty = glob.glob(\"D:\\\\Dataset\\PKLot\\PKLot\\PKLotSegmented\\PUC\\Cloudy\\*\\Empty\\*.jpg\")\n",
    "PUC_Cloudy_Occupied = glob.glob(\"D:\\\\Dataset\\PKLot\\PKLot\\PKLotSegmented\\PUC\\Cloudy\\*\\Occupied\\*.jpg\")"
   ]
  },
  {
   "cell_type": "code",
   "execution_count": null,
   "metadata": {
    "pycharm": {
     "is_executing": true
    }
   },
   "outputs": [],
   "source": [
    "UFPR04_Sunny_Empty = glob.glob(\"D:\\\\Dataset\\PKLot\\PKLot\\PKLotSegmented\\\\UFPR04\\Sunny\\*\\Empty\\*.jpg\")\n",
    "UFPR04_Sunny_Occupied = glob.glob(\"D:\\\\Dataset\\PKLot\\PKLot\\PKLotSegmented\\\\UFPR04\\Sunny\\*\\Occupied\\*.jpg\")\n",
    "UFPR04_Rainy_Empty = glob.glob(\"D:\\\\Dataset\\PKLot\\PKLot\\PKLotSegmented\\\\UFPR04\\Rainy\\*\\Empty\\*.jpg\")\n",
    "UFPR04_Rainy_Occupied = glob.glob(\"D:\\\\Dataset\\PKLot\\PKLot\\PKLotSegmented\\\\UFPR04\\Rainy\\*\\Occupied\\*.jpg\")\n",
    "UFPR04_Cloudy_Empty = glob.glob(\"D:\\\\Dataset\\PKLot\\PKLot\\PKLotSegmented\\\\UFPR04\\Cloudy\\*\\Empty\\*.jpg\")\n",
    "UFPR04_Cloudy_Occupied = glob.glob(\"D:\\\\Dataset\\PKLot\\PKLot\\PKLotSegmented\\\\UFPR04\\Cloudy\\*\\Occupied\\*.jpg\")"
   ]
  },
  {
   "cell_type": "code",
   "execution_count": null,
   "metadata": {
    "pycharm": {
     "is_executing": true
    }
   },
   "outputs": [],
   "source": [
    "UFPR05_Sunny_Empty = glob.glob(\"D:\\\\Dataset\\PKLot\\PKLot\\PKLotSegmented\\\\UFPR05\\Sunny\\*\\Empty\\*.jpg\")\n",
    "UFPR05_Sunny_Occupied = glob.glob(\"D:\\\\Dataset\\PKLot\\PKLot\\PKLotSegmented\\\\UFPR05\\Sunny\\*\\Occupied\\*.jpg\")\n",
    "UFPR05_Rainy_Empty = glob.glob(\"D:\\\\Dataset\\PKLot\\PKLot\\PKLotSegmented\\\\UFPR05\\Rainy\\*\\Empty\\*.jpg\")\n",
    "UFPR05_Rainy_Occupied = glob.glob(\"D:\\\\Dataset\\PKLot\\PKLot\\PKLotSegmented\\\\UFPR05\\Rainy\\*\\Occupied\\*.jpg\")\n",
    "UFPR05_Cloudy_Empty = glob.glob(\"D:\\\\Dataset\\PKLot\\PKLot\\PKLotSegmented\\\\UFPR05\\Cloudy\\*\\Empty\\*.jpg\")\n",
    "UFPR05_Cloudy_Occupied = glob.glob(\"D:\\\\Dataset\\PKLot\\PKLot\\PKLotSegmented\\\\UFPR05\\Cloudy\\*\\Occupied\\*.jpg\")"
   ]
  },
  {
   "cell_type": "markdown",
   "metadata": {},
   "source": [
    "### Počty jednotlivých obrázkov"
   ]
  },
  {
   "cell_type": "code",
   "execution_count": null,
   "metadata": {
    "pycharm": {
     "is_executing": true
    }
   },
   "outputs": [],
   "source": [
    "data = {'Sunny empty':[len(PUC_Sunny_Empty),len(UFPR04_Sunny_Empty),len(UFPR05_Sunny_Empty)],'Sunny occupied':[len(PUC_Sunny_Occupied),len(UFPR04_Sunny_Occupied),len(UFPR05_Sunny_Occupied)],'Cloudy empty':[len(PUC_Cloudy_Empty),len(UFPR04_Cloudy_Empty),len(UFPR05_Cloudy_Empty)],'Cloudy occupied':[len(PUC_Cloudy_Occupied),len(UFPR04_Cloudy_Occupied),len(UFPR05_Cloudy_Occupied)],'Rainy empty':[len(PUC_Rainy_Empty),len(UFPR04_Rainy_Empty),len(UFPR05_Rainy_Empty)],'Rainy occupied':[len(PUC_Rainy_Occupied),len(UFPR04_Rainy_Occupied),len(UFPR05_Rainy_Occupied)]}"
   ]
  },
  {
   "cell_type": "code",
   "execution_count": null,
   "metadata": {
    "pycharm": {
     "is_executing": true
    }
   },
   "outputs": [],
   "source": [
    "Dataset_Counts = pandas.DataFrame(data=data)"
   ]
  },
  {
   "cell_type": "code",
   "execution_count": null,
   "metadata": {
    "pycharm": {
     "is_executing": true
    }
   },
   "outputs": [],
   "source": [
    "Dataset_Counts = Dataset_Counts.set_index(pandas.Index(['Parking 1','Parking 2','Parking 3']))"
   ]
  },
  {
   "cell_type": "code",
   "execution_count": null,
   "metadata": {
    "pycharm": {
     "is_executing": true
    }
   },
   "outputs": [],
   "source": [
    "Dataset_Counts"
   ]
  },
  {
   "cell_type": "markdown",
   "metadata": {},
   "source": [
    "**PUC parking (Parking 1)**"
   ]
  },
  {
   "cell_type": "code",
   "execution_count": null,
   "metadata": {
    "pycharm": {
     "is_executing": true
    }
   },
   "outputs": [],
   "source": [
    "\n",
    "total = [len(PUC_Sunny_Empty)+len(PUC_Sunny_Occupied), len(PUC_Cloudy_Empty)+len(PUC_Cloudy_Occupied),len(PUC_Rainy_Empty)+len(PUC_Rainy_Occupied) ]\n",
    "Occupied = [len(PUC_Sunny_Occupied), len(PUC_Cloudy_Occupied),len(PUC_Rainy_Occupied) ]\n",
    "fig, ax = plt.subplots(figsize=(15,15))\n",
    "\n",
    "index = [1,2,3]\n",
    "bar_width = 0.35\n",
    "opacity = 0.8\n",
    "\n",
    "rects1 = plt.bar(index, total, bar_width,\n",
    "alpha=opacity,\n",
    "color='b',\n",
    "label='Empty')\n",
    "\n",
    "rects2 = plt.bar(index , Occupied, bar_width,\n",
    "alpha=opacity,\n",
    "color='g',\n",
    "label='Occupied')\n",
    "plt.xlabel('Weather',fontsize=12)\n",
    "plt.ylabel('Count')\n",
    "\n",
    "plt.title('Parking PUC',fontsize = 25)\n",
    "plt.legend()\n",
    "labels = ['Sunny','Cloudy','Rainy']\n",
    "plt.xticks(index, labels)\n",
    "\n",
    "plt.show()"
   ]
  },
  {
   "cell_type": "markdown",
   "metadata": {},
   "source": [
    "**Parking UFPR04 (Parking 2)**"
   ]
  },
  {
   "cell_type": "code",
   "execution_count": null,
   "metadata": {
    "pycharm": {
     "is_executing": true
    }
   },
   "outputs": [],
   "source": [
    "\n",
    "total = [len(UFPR04_Sunny_Empty)+len(UFPR04_Sunny_Occupied), len(UFPR04_Cloudy_Occupied)+len(UFPR04_Cloudy_Occupied),len(UFPR04_Rainy_Empty)+len(UFPR04_Rainy_Occupied) ]\n",
    "Occupied = [len(UFPR04_Sunny_Occupied), len(UFPR04_Cloudy_Occupied),len(UFPR04_Rainy_Occupied) ]\n",
    "fig, ax = plt.subplots(figsize=(10,10))\n",
    "\n",
    "index = [1,2,3]\n",
    "bar_width = 0.35\n",
    "opacity = 0.8\n",
    "\n",
    "rects1 = plt.bar(index, total, bar_width,\n",
    "alpha=opacity,\n",
    "color='b',\n",
    "label='Empty')\n",
    "\n",
    "rects2 = plt.bar(index , Occupied, bar_width,\n",
    "alpha=opacity,\n",
    "color='g',\n",
    "label='Occupied')\n",
    "plt.xlabel('Weather',fontsize=12)\n",
    "plt.ylabel('Count')\n",
    "\n",
    "plt.title('Parking UFPR04',fontsize=25)\n",
    "plt.legend()\n",
    "labels = ['Sunny','Cloudy','Rainy']\n",
    "plt.xticks(index, labels)\n",
    "\n",
    "plt.show()"
   ]
  },
  {
   "cell_type": "markdown",
   "metadata": {},
   "source": [
    "**Parking UFPR05 (Parking 3)**"
   ]
  },
  {
   "cell_type": "code",
   "execution_count": null,
   "metadata": {
    "pycharm": {
     "is_executing": true
    },
    "scrolled": false
   },
   "outputs": [],
   "source": [
    "\n",
    "total = [len(UFPR05_Sunny_Empty)+len(UFPR05_Sunny_Occupied), len(UFPR05_Cloudy_Occupied)+len(UFPR05_Cloudy_Occupied),len(UFPR05_Rainy_Empty)+len(UFPR05_Rainy_Occupied) ]\n",
    "Occupied = [len(UFPR05_Sunny_Occupied), len(UFPR05_Cloudy_Occupied),len(UFPR05_Rainy_Occupied) ]\n",
    "fig, ax = plt.subplots(figsize=(12,12))\n",
    "\n",
    "index = [1,2,3]\n",
    "bar_width = 0.35\n",
    "opacity = 0.8\n",
    "\n",
    "rects1 = plt.bar(index, total, bar_width,\n",
    "alpha=opacity,\n",
    "color='b',\n",
    "label='Empty')\n",
    "\n",
    "rects2 = plt.bar(index , Occupied, bar_width,\n",
    "alpha=opacity,\n",
    "color='g',\n",
    "label='Occupied')\n",
    "plt.xlabel('Weather',fontsize=12)\n",
    "plt.ylabel('Count')\n",
    "\n",
    "plt.title('Parking UFPR05',fontsize=25)\n",
    "plt.legend()\n",
    "labels = ['Sunny','Cloudy','Rainy']\n",
    "plt.xticks(index, labels)\n",
    "\n",
    "plt.show()"
   ]
  },
  {
   "cell_type": "markdown",
   "metadata": {},
   "source": [
    "### Zistenie rozlíšení obrázkov"
   ]
  },
  {
   "cell_type": "code",
   "execution_count": null,
   "metadata": {
    "pycharm": {
     "is_executing": true
    }
   },
   "outputs": [],
   "source": [
    "Shapes = {(0,0)}"
   ]
  },
  {
   "cell_type": "code",
   "execution_count": null,
   "metadata": {
    "pycharm": {
     "is_executing": true
    }
   },
   "outputs": [],
   "source": [
    "for image in PUC_Sunny_Empty:\n",
    "    img = cv2.imread(image)\n",
    "    Shapes.add(img.shape[:2])\n",
    "for image in PUC_Sunny_Empty:\n",
    "    img = cv2.imread(image)\n",
    "    Shapes.add(img.shape[:2])\n",
    "for image in PUC_Sunny_Occupied:\n",
    "    img = cv2.imread(image)\n",
    "    Shapes.add(img.shape[:2])\n",
    "for image in PUC_Cloudy_Empty:\n",
    "    img = cv2.imread(image)\n",
    "    Shapes.add(img.shape[:2])\n",
    "for image in PUC_Cloudy_Occupied:\n",
    "    img = cv2.imread(image)\n",
    "    Shapes.add(img.shape[:2])\n",
    "for image in PUC_Rainy_Empty:\n",
    "    img = cv2.imread(image)\n",
    "    Shapes.add(img.shape[:2])\n",
    "for image in PUC_Rainy_Occupied:\n",
    "    img = cv2.imread(image)\n",
    "    Shapes.add(img.shape[:2])"
   ]
  },
  {
   "cell_type": "code",
   "execution_count": null,
   "metadata": {
    "pycharm": {
     "is_executing": true
    }
   },
   "outputs": [],
   "source": [
    "print(\"Vsetky obrazky maju \"+str(len(Shapes))+\" roznych rozliseni\")\n",
    "print(Shapes)"
   ]
  },
  {
   "cell_type": "markdown",
   "metadata": {},
   "source": [
    "Identifikovali sme 93 rôznych rozlíšení, ktoré sme opravovali pri načítaní dát pred trénovaním modelu"
   ]
  },
  {
   "cell_type": "markdown",
   "metadata": {},
   "source": [
    "### Farba a osvetlenie"
   ]
  },
  {
   "cell_type": "markdown",
   "metadata": {},
   "source": [
    "Farba obrázka bola rôzna v závislosti od farby auta alebo vlhkosti parkoviska. My sme chceli predísť rôznym problémom pri učení v závislosti s farbou tak sme pri načítaní dát aplikovali GRAYSCALE filter na všetky obrázky."
   ]
  },
  {
   "cell_type": "markdown",
   "metadata": {},
   "source": [
    "Osvetlenie obrázkov sme tiež nechceli upravovať, kvôli trom podmienkam počasia, ktoré sa v dátach nachádzajú. \n",
    "\n",
    "Keby sme upravovali osvetlenie tak by sa stratil rozdiel medzi obrázkami, ktoré boli nasnímané v slnečnom počasí a tými ktoré boli nasnímané v oblačnom počasí."
   ]
  },
  {
   "cell_type": "markdown",
   "metadata": {},
   "source": [
    "## Model"
   ]
  },
  {
   "cell_type": "markdown",
   "metadata": {},
   "source": [
    "Pre naše riešenie sme sa inšpirovali výskumným článkom a ich upraveným modelom AlexNet, ktorý nazvali MiniAlexNet. Obrázok tejto architektúry môžeme vidieť o bunku nižšie."
   ]
  },
  {
   "cell_type": "code",
   "execution_count": null,
   "metadata": {
    "pycharm": {
     "is_executing": true
    }
   },
   "outputs": [],
   "source": [
    "from IPython.display import Image\n",
    "Image(filename='Model.jpg') "
   ]
  },
  {
   "cell_type": "markdown",
   "metadata": {},
   "source": [
    "V našom modeli sme však vynechali v prvých 2 vrstvách Local Response Normalizáciu. \n",
    "\n",
    "Náš výsledný model obsahuje 3 konvolučné vrstvy s aktivačnou funkciou ReLu a dve plne prepojené vrstvy. Jedna obsahuje aktivačnú funkciu Relu a druhá obsahuje aktivačnú funkciu softmax."
   ]
  },
  {
   "cell_type": "markdown",
   "metadata": {
    "pycharm": {
     "name": "#%% md\n"
    }
   },
   "source": [
    "## Finálne odovzdanie\n",
    "### segmentácia\n",
    "Pre finálne odovzdanie sme sa snažili vytvoriť model na segmentáciu obrázkov. \n",
    "Ako vstup pre model bude obrázok parkoviska a ako výstup maska parkoviska z vyznačnými voľnými miestami.\n",
    "Skúšali sme vytvoriť náš vlastný model. Po viacerých natrénovaných modeloch na malých vzorkách, ktoré skončili nezdarom sme sa rozhodli, že použijeme model Unet. \n",
    "\n",
    "Model Unet je znázornený na obrázku nižšie."
   ]
  },
  {
   "cell_type": "markdown",
   "metadata": {
    "pycharm": {
     "name": "#%% md\n"
    }
   },
   "source": [
    "![Unet](Unet.png)"
   ]
  },
  {
   "cell_type": "markdown",
   "metadata": {
    "pycharm": {
     "name": "#%%\n"
    }
   },
   "source": [
    "Tento model je založený na skupinách 2 konvolučných vrstiev a následnou vrstvou MaxPoolingu, znázornené červenými a modrými šípkami. V druhej polovici sa namiesto MaxPoolingu používa Upsampling na opätovné získanie potrebného rozlíšenia.\n",
    "Najprv sa vstupný obrázok postupne zmenšuje v prvej polovici modelu a následne sa rekonštruuje do pôvodnej veľkosti.\n",
    "Ako vstupy pre druhú polovicu vrstiev sa využívajú výstupy vrstiev z prvej polovice, znázornené sivými šípkami.\n",
    "Výstupná vrstva je 1x1 konvolúčna vrstva, ktorá používa ako aktivačnú funkciu sigmoidu. Táto vrtva zabezpečí výstup s jedným kanálom."
   ]
  },
  {
   "cell_type": "markdown",
   "metadata": {},
   "source": [
    "Naša adaptácia tohto modelu prijíma ako vstup obrázok veľkosti **320 x 320** pixelov v **RGB** móde. Ako výstup je maska parkoviska z vyznačenými voľnými parkovacími miestami v rovnakej veľkosti.\n",
    "Táto maska je v móde **grayscale**.\n",
    "\n"
   ]
  },
  {
   "cell_type": "markdown",
   "metadata": {},
   "source": [
    "### Cieľ našej segmentácie"
   ]
  },
  {
   "cell_type": "code",
   "execution_count": null,
   "metadata": {
    "pycharm": {
     "is_executing": true
    }
   },
   "outputs": [],
   "source": [
    "from IPython.display import Image\n",
    "from IPython.display import display\n",
    "x = Image(filename='Vstup.jpg') \n",
    "y = Image(filename='Vystup.jpg') "
   ]
  },
  {
   "cell_type": "markdown",
   "metadata": {},
   "source": [
    "### VSTUP"
   ]
  },
  {
   "cell_type": "code",
   "execution_count": null,
   "metadata": {
    "pycharm": {
     "is_executing": true
    }
   },
   "outputs": [],
   "source": [
    "display(x)"
   ]
  },
  {
   "cell_type": "markdown",
   "metadata": {},
   "source": [
    "### VYSTUP"
   ]
  },
  {
   "cell_type": "code",
   "execution_count": null,
   "metadata": {
    "pycharm": {
     "is_executing": true
    }
   },
   "outputs": [],
   "source": [
    "display(y)"
   ]
  },
  {
   "cell_type": "markdown",
   "metadata": {},
   "source": [
    "## Trénovanie"
   ]
  },
  {
   "cell_type": "markdown",
   "metadata": {},
   "source": [
    "Náš model sme trénovali na 4 dátových sadách. \n",
    "\n",
    "Experimentovali sme s počtami epoch, skúšali sme rôzne loss funkcie.Skúšali sme rozdielne veľkosti batch sizu, ale nakoniec sme sa ustálili na čísle 8. Taktiež sme trénovali na rôznych veľkostiach obrázka po ktorých sme sa rozhodli použiť rozmer 320 x 320.\n",
    "\n",
    "Hyperparametre jednotlivých vrstiev(filtre, veľkosť kernelu, padding, strides) v modeli sme nechceli meniť v dôsledku toho, aby sme model nepokazili.\n",
    "\n"
   ]
  },
  {
   "cell_type": "markdown",
   "metadata": {},
   "source": [
    "### Problémy počas trénovania modelu\n",
    "\n",
    "Pr trénovaní našich vlastných modelov výstupná maska nezodpovedala našemu predpokladu. Vyskytovali sa tam zvislé biele čiary, ktoré nezodpovedali žiadnej trénovacej maske a tak sme usúdili, že modely sú z hľadiska architektúry chybné a teda sme usúdili, že sa inšpirujeme existujúcou architektúrov už vyššie spomínanov, modelom UNET"
   ]
  },
  {
   "cell_type": "markdown",
   "metadata": {},
   "source": [
    "## Experimenty\n",
    "\n",
    "Experimentovali sme najmä z pohľadu hyperparametrov trénovania.\n",
    "Menili sme počet epoch a sledovali sme ako sa mení úspešnosť modelu.\n",
    "Menili sme taktiež loss funkcie.\n",
    "Výsledky sme pozorovali pomocou logov, ktoré sme zaznnámenávali."
   ]
  },
  {
   "cell_type": "markdown",
   "metadata": {},
   "source": [
    "## Evaluácia"
   ]
  },
  {
   "cell_type": "markdown",
   "metadata": {},
   "source": [
    "Na evaluáciu našeho modelu sme použili metriku iou_score(Intersection-Over-Union) alebo známa aj ako Jaccardov index. \n",
    "Tento index nám zistí ako podobné sú jednotlivé masky (skutočná maska vs predikovaná maska)\n",
    "\n",
    "\n",
    "\\begin{split}\n",
    "IOU & = \\frac{ Area of Overlap}{ Area of Union} \n",
    "\\end{split}\n",
    "\n",
    "Táto metrika nám vráti výsledok z rozsahu 0-1, kde 0 je žiadna podobnosť a 1 je zhoda.\n",
    "Urobili sme priemer zo všetkých týchto výsledkov pre každú dvojicu na základe čoho sme usúdili úspešnosť modelu"
   ]
  },
  {
   "cell_type": "markdown",
   "metadata": {
    "pycharm": {
     "is_executing": true
    }
   },
   "source": [
    "**Parkovisko PUCR**\n",
    "\n",
    "**Loss Funkcia** - MeanSquareError\n",
    "\n",
    "| Epochy  | IOU |\n",
    "| --- | --- |\n",
    "| 5 |  0.11302 |\n",
    "| 15 | 0.11246 |\n",
    "| 18 | 0.11213 |\n",
    "| 50 |  0.11360 |\n",
    "\n",
    "**Loss Funkcia** - Binary Cross Entropy\n",
    "\n",
    "| Epochy  | IOU |\n",
    "| --- | --- |\n",
    "| 50 |  0.11415 |\n",
    "\n"
   ]
  },
  {
   "cell_type": "markdown",
   "metadata": {},
   "source": [
    "**Parkovisko UFPR4**\n",
    "\n",
    "**Loss Funkcia** - MeanSquareError\n",
    "\n",
    "| Epochy  | IOU |\n",
    "| --- | --- |\n",
    "| 5 |  0.10183 |\n",
    "| 10 | 0.10183 |\n",
    "| 15 | 0.10183 |\n",
    "| 50 | 0.10399 |\n",
    "\n",
    "**Loss Funkcia** - Binary Cross Entropy\n",
    "\n",
    "| Epochy  | IOU |\n",
    "| --- | --- |\n",
    "| 50 |  0.10457 |\n"
   ]
  },
  {
   "cell_type": "markdown",
   "metadata": {},
   "source": [
    "**Parkovisko UFPR05**\n",
    "\n",
    "**Slnečné počasie**\n",
    "\n",
    "**Loss Funkcia** - MeanSquareError\n",
    "\n",
    "| Epochy  | IOU |\n",
    "| --- | --- |\n",
    "| 5 |  0.08589 |\n",
    "| 15 | 0.08585 |\n",
    "| 50 | 0.08493 |\n",
    "\n",
    "\n",
    "**Loss Funkcia** - Binary Cross Entropy\n",
    "\n",
    "| Epochy  | IOU |\n",
    "| --- | --- |\n",
    "| 50 |  0.08614 |\n",
    "\n",
    "**Oblačné a daždivé počasie**\n",
    "\n",
    "**Loss Funkcia** - MeanSquareError\n",
    "\n",
    "| Epochy  | IOU |\n",
    "| --- | --- |\n",
    "| 5 |  0.09785 |\n",
    "| 15 | 0.09938 |\n",
    "| 20 | 0.09938 |\n",
    "| 50 | 0.09969 |\n",
    "\n",
    "**Loss Funkcia** - Binary Cross Entropy\n",
    "\n",
    "| Epochy  | IOU |\n",
    "| --- | --- |\n",
    "| 50 |  0.09939 |\n"
   ]
  },
  {
   "cell_type": "markdown",
   "metadata": {},
   "source": [
    "Naše výsledky sú uvedené v tabuľkách."
   ]
  },
  {
   "cell_type": "markdown",
   "metadata": {},
   "source": [
    "### Možné vylepšenia"
   ]
  },
  {
   "cell_type": "markdown",
   "metadata": {},
   "source": [
    "Ako jednu z možných chýb, ktorá mohla nastať považujeme dátovú sadu. Ak by boli obrázky snímané z iného uhla na parkovisko tak by mohla byť úspešnosť modelu lepšie."
   ]
  },
  {
   "cell_type": "markdown",
   "metadata": {},
   "source": [
    "Ako ďalšiu možnosť vylepšenia považujeme zameranie sa na obsadené miesta namiesto voľných, čo by bolo možno lepšie pre model. Mohol by sa lepšie naučiť vzťah medzi autom a obsadeným miestom na rozdiel keď voľné miesto je asfalt tak ako aj na ceste."
   ]
  },
  {
   "cell_type": "markdown",
   "metadata": {},
   "source": [
    "Ďalším možným vylepšením by bola úprava modelu, teda experimentovať s počtami filtrov, veľkosťami kernelov a stridov a taktiež skúsiť rôzne paddingy."
   ]
  }
 ],
 "metadata": {
  "kernelspec": {
   "display_name": "Python 3",
   "language": "python",
   "name": "python3"
  },
  "language_info": {
   "codemirror_mode": {
    "name": "ipython",
    "version": 3
   },
   "file_extension": ".py",
   "mimetype": "text/x-python",
   "name": "python",
   "nbconvert_exporter": "python",
   "pygments_lexer": "ipython3",
   "version": "3.7.0"
  },
  "pycharm": {
   "stem_cell": {
    "cell_type": "raw",
    "metadata": {
     "collapsed": false
    },
    "source": []
   }
  }
 },
 "nbformat": 4,
 "nbformat_minor": 2
}
